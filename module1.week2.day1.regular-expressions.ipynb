{
 "cells": [
  {
   "cell_type": "code",
   "execution_count": 6,
   "metadata": {},
   "outputs": [],
   "source": [
    "import re"
   ]
  },
  {
   "cell_type": "code",
   "execution_count": 21,
   "metadata": {},
   "outputs": [],
   "source": [
    "text = \"Barcelona Weather Radar In the wake of a massive storm that brought blizzard conditions to the Plains, damaging freezing rain to the Midwest of Barcelona, and heavy snow to the Great Lakes\""
   ]
  },
  {
   "cell_type": "code",
   "execution_count": 22,
   "metadata": {},
   "outputs": [
    {
     "data": {
      "text/plain": [
       "'Barcelona Weather Radar In the wake of a massive storm that brought blizzard conditions to the Plains, damaging freezing rain to the Midwest of Barcelona, and heavy snow to the Great Lakes'"
      ]
     },
     "execution_count": 22,
     "metadata": {},
     "output_type": "execute_result"
    }
   ],
   "source": [
    "text"
   ]
  },
  {
   "cell_type": "code",
   "execution_count": 10,
   "metadata": {},
   "outputs": [
    {
     "data": {
      "text/plain": [
       "['ar', 'ar', 'ar']"
      ]
     },
     "execution_count": 10,
     "metadata": {},
     "output_type": "execute_result"
    }
   ],
   "source": [
    "pattern = 'ar'\n",
    "re.findall(pattern, text)"
   ]
  },
  {
   "cell_type": "code",
   "execution_count": 11,
   "metadata": {},
   "outputs": [
    {
     "data": {
      "text/plain": [
       "['a',\n",
       " 'r',\n",
       " 'a',\n",
       " 'a',\n",
       " 'r',\n",
       " 'a',\n",
       " 'a',\n",
       " 'r',\n",
       " 'a',\n",
       " 'a',\n",
       " 'a',\n",
       " 'r',\n",
       " 'a',\n",
       " 'r',\n",
       " 'a',\n",
       " 'r',\n",
       " 'a',\n",
       " 'a',\n",
       " 'a',\n",
       " 'r',\n",
       " 'r',\n",
       " 'a',\n",
       " 'a',\n",
       " 'a',\n",
       " 'r',\n",
       " 'a',\n",
       " 'a']"
      ]
     },
     "execution_count": 11,
     "metadata": {},
     "output_type": "execute_result"
    }
   ],
   "source": [
    "pattern = '[ar]'\n",
    "re.findall(pattern, text)"
   ]
  },
  {
   "cell_type": "code",
   "execution_count": 17,
   "metadata": {},
   "outputs": [
    {
     "data": {
      "text/plain": [
       "['Barcelona']"
      ]
     },
     "execution_count": 17,
     "metadata": {},
     "output_type": "execute_result"
    }
   ],
   "source": [
    "pattern = 'B[a-z]*ona'\n",
    "re.findall(pattern, text)"
   ]
  },
  {
   "cell_type": "code",
   "execution_count": 19,
   "metadata": {},
   "outputs": [
    {
     "data": {
      "text/plain": [
       "['Barcelona']"
      ]
     },
     "execution_count": 19,
     "metadata": {},
     "output_type": "execute_result"
    }
   ],
   "source": [
    "pattern = '[A-Z][a-z]*ona'\n",
    "re.findall(pattern, text)"
   ]
  },
  {
   "cell_type": "code",
   "execution_count": 23,
   "metadata": {},
   "outputs": [
    {
     "data": {
      "text/plain": [
       "['Barcelona', 'Barcelona']"
      ]
     },
     "execution_count": 23,
     "metadata": {},
     "output_type": "execute_result"
    }
   ],
   "source": [
    "pattern = '\\w*ona'\n",
    "re.findall(pattern, text)"
   ]
  },
  {
   "cell_type": "code",
   "execution_count": 24,
   "metadata": {},
   "outputs": [
    {
     "data": {
      "text/plain": [
       "['Barcelona']"
      ]
     },
     "execution_count": 24,
     "metadata": {},
     "output_type": "execute_result"
    }
   ],
   "source": [
    "pattern = '^\\w*ona'\n",
    "re.findall(pattern, text)"
   ]
  },
  {
   "cell_type": "code",
   "execution_count": 25,
   "metadata": {},
   "outputs": [
    {
     "data": {
      "text/plain": [
       "'Barcelona Weather Radar In the wake of a massive storm that brought blizzard conditions to the Plains, damaging freezing rain to the Midwest of Barcelona, and heavy snow to the Great Lakes'"
      ]
     },
     "execution_count": 25,
     "metadata": {},
     "output_type": "execute_result"
    }
   ],
   "source": [
    "text"
   ]
  },
  {
   "cell_type": "code",
   "execution_count": 26,
   "metadata": {},
   "outputs": [
    {
     "data": {
      "text/plain": [
       "['massive', 'storm']"
      ]
     },
     "execution_count": 26,
     "metadata": {},
     "output_type": "execute_result"
    }
   ],
   "source": [
    "pattern = 'massive|storm'\n",
    "re.findall(pattern, text)"
   ]
  },
  {
   "cell_type": "code",
   "execution_count": 29,
   "metadata": {},
   "outputs": [
    {
     "data": {
      "text/plain": [
       "[('massive', ''), ('', 'storm')]"
      ]
     },
     "execution_count": 29,
     "metadata": {},
     "output_type": "execute_result"
    }
   ],
   "source": [
    "pattern = '(massive)|(storm)'\n",
    "re.findall(pattern, text)"
   ]
  },
  {
   "cell_type": "code",
   "execution_count": 30,
   "metadata": {},
   "outputs": [],
   "source": [
    "text = \"And then the Viking said: aw, aww, awww, awwww, awwwww\"\n"
   ]
  },
  {
   "cell_type": "code",
   "execution_count": 31,
   "metadata": {},
   "outputs": [
    {
     "data": {
      "text/plain": [
       "['aw', 'aw', 'aw', 'aw', 'aw']"
      ]
     },
     "execution_count": 31,
     "metadata": {},
     "output_type": "execute_result"
    }
   ],
   "source": [
    "pattern = 'aw'\n",
    "re.findall(pattern, text)"
   ]
  },
  {
   "cell_type": "code",
   "execution_count": 32,
   "metadata": {},
   "outputs": [
    {
     "data": {
      "text/plain": [
       "['aw,']"
      ]
     },
     "execution_count": 32,
     "metadata": {},
     "output_type": "execute_result"
    }
   ],
   "source": [
    "pattern = 'aw,'\n",
    "re.findall(pattern, text)"
   ]
  },
  {
   "cell_type": "code",
   "execution_count": 33,
   "metadata": {},
   "outputs": [
    {
     "data": {
      "text/plain": [
       "['aw', 'aw', 'aw', 'aw', 'aw']"
      ]
     },
     "execution_count": 33,
     "metadata": {},
     "output_type": "execute_result"
    }
   ],
   "source": [
    "pattern = 'aw{1}'\n",
    "re.findall(pattern, text)"
   ]
  },
  {
   "cell_type": "code",
   "execution_count": 34,
   "metadata": {},
   "outputs": [
    {
     "data": {
      "text/plain": [
       "['awwwww']"
      ]
     },
     "execution_count": 34,
     "metadata": {},
     "output_type": "execute_result"
    }
   ],
   "source": [
    "pattern = 'aw{5}'\n",
    "re.findall(pattern, text)"
   ]
  },
  {
   "cell_type": "code",
   "execution_count": 35,
   "metadata": {},
   "outputs": [
    {
     "data": {
      "text/plain": [
       "['aww', 'awww', 'awwww', 'awwwww']"
      ]
     },
     "execution_count": 35,
     "metadata": {},
     "output_type": "execute_result"
    }
   ],
   "source": [
    "pattern = 'aw{2,5}'\n",
    "re.findall(pattern, text)"
   ]
  },
  {
   "cell_type": "code",
   "execution_count": 36,
   "metadata": {},
   "outputs": [
    {
     "data": {
      "text/plain": [
       "['aww', 'awww', 'awwww', 'awwwww']"
      ]
     },
     "execution_count": 36,
     "metadata": {},
     "output_type": "execute_result"
    }
   ],
   "source": [
    "pattern = 'aw{2,}'\n",
    "re.findall(pattern, text)"
   ]
  },
  {
   "cell_type": "code",
   "execution_count": 37,
   "metadata": {},
   "outputs": [
    {
     "data": {
      "text/plain": [
       "['a', 'aw', 'aw', 'aw', 'aw', 'aw']"
      ]
     },
     "execution_count": 37,
     "metadata": {},
     "output_type": "execute_result"
    }
   ],
   "source": [
    "pattern = 'aw{,1}'\n",
    "re.findall(pattern, text)"
   ]
  },
  {
   "cell_type": "code",
   "execution_count": 38,
   "metadata": {},
   "outputs": [
    {
     "data": {
      "text/plain": [
       "'And then the Viking said: aw, aww, awww, awwww, awwwww'"
      ]
     },
     "execution_count": 38,
     "metadata": {},
     "output_type": "execute_result"
    }
   ],
   "source": [
    "text"
   ]
  },
  {
   "cell_type": "code",
   "execution_count": 41,
   "metadata": {},
   "outputs": [],
   "source": [
    "text = 'And then the Viking and the Zak said: aw, aww, awww, awwww, awwwww'\n"
   ]
  },
  {
   "cell_type": "code",
   "execution_count": 42,
   "metadata": {},
   "outputs": [
    {
     "data": {
      "text/plain": [
       "['a', 'a', 'a', 'aw', 'aw', 'aw', 'aw', 'aw']"
      ]
     },
     "execution_count": 42,
     "metadata": {},
     "output_type": "execute_result"
    }
   ],
   "source": [
    "pattern = 'aw{,1}'\n",
    "re.findall(pattern, text)"
   ]
  },
  {
   "cell_type": "code",
   "execution_count": 45,
   "metadata": {},
   "outputs": [
    {
     "name": "stdout",
     "output_type": "stream",
     "text": [
      "['A', 'n', 'd', ' ', 't', 'h', 'e', 'n', ' ', 't', 'h', 'e', ' ', 'V', 'i', 'k', 'i', 'n', 'g', ' ', 'a', 'n', 'd', ' ', 't', 'h', 'e', ' ', 'Z', 'a', 'k', ' ', 's', 'a', 'i', 'd', ':', ' ', 'a', 'w', ',', ' ', 'a', 'w', 'w', ',', ' ', 'a', 'w', 'w', 'w', ',', ' ', 'a', 'w', 'w', 'w', 'w', ',', ' ', 'a', 'w', 'w', 'w', 'w', 'w']\n"
     ]
    }
   ],
   "source": [
    "pattern = '\\D'\n",
    "result = re.findall(pattern, text)\n",
    "print(result)"
   ]
  },
  {
   "cell_type": "code",
   "execution_count": 46,
   "metadata": {},
   "outputs": [],
   "source": [
    "resultSplitted = text.split()"
   ]
  },
  {
   "cell_type": "code",
   "execution_count": 47,
   "metadata": {},
   "outputs": [
    {
     "name": "stdout",
     "output_type": "stream",
     "text": [
      "['And', 'then', 'the', 'Viking', 'and', 'the', 'Zak', 'said:', 'aw,', 'aww,', 'awww,', 'awwww,', 'awwwww']\n"
     ]
    }
   ],
   "source": [
    "print(resultSplitted)"
   ]
  },
  {
   "cell_type": "code",
   "execution_count": 48,
   "metadata": {},
   "outputs": [
    {
     "name": "stdout",
     "output_type": "stream",
     "text": [
      "And\n",
      "then\n",
      "the\n",
      "Viking\n",
      "and\n",
      "the\n",
      "Zak\n",
      "said\n",
      "aw,\n",
      "aww,\n",
      "awww,\n",
      "awwww,\n",
      "awwwww\n"
     ]
    }
   ],
   "source": [
    "for elem in resultSplitted:\n",
    "    print(elem.replace(':',''))\n",
    "# this is not efficient"
   ]
  },
  {
   "cell_type": "code",
   "execution_count": 50,
   "metadata": {},
   "outputs": [
    {
     "name": "stdout",
     "output_type": "stream",
     "text": [
      "['A', 'n', 'd', 't', 'h', 'e', 'n', 't', 'h', 'e', 'V', 'i', 'k', 'i', 'n', 'g', 'a', 'n', 'd', 't', 'h', 'e', 'Z', 'a', 'k', 's', 'a', 'i', 'd', 'a', 'w', 'a', 'w', 'w', 'a', 'w', 'w', 'w', 'a', 'w', 'w', 'w', 'w', 'a', 'w', 'w', 'w', 'w', 'w']\n"
     ]
    }
   ],
   "source": [
    "pattern = \"[a-z]|[A-Z]{1,}\"\n",
    "print(re.findall(pattern, text))"
   ]
  },
  {
   "cell_type": "code",
   "execution_count": 51,
   "metadata": {},
   "outputs": [
    {
     "data": {
      "text/plain": [
       "['A', 'V', 'Z']"
      ]
     },
     "execution_count": 51,
     "metadata": {},
     "output_type": "execute_result"
    }
   ],
   "source": [
    "pattern = \"[A-Z]{1,}\"\n",
    "re.findall(pattern, text)"
   ]
  },
  {
   "cell_type": "code",
   "execution_count": 53,
   "metadata": {},
   "outputs": [
    {
     "data": {
      "text/plain": [
       "['And ',\n",
       " 'then ',\n",
       " 'the ',\n",
       " 'Viking ',\n",
       " 'and ',\n",
       " 'the ',\n",
       " 'Zak ',\n",
       " 'said',\n",
       " 'aw',\n",
       " 'aww',\n",
       " 'awww',\n",
       " 'awwww',\n",
       " 'awwwww']"
      ]
     },
     "execution_count": 53,
     "metadata": {},
     "output_type": "execute_result"
    }
   ],
   "source": [
    "pattern = \"\\w+\\s?\"\n",
    "re.findall(pattern, text)"
   ]
  },
  {
   "cell_type": "code",
   "execution_count": 52,
   "metadata": {},
   "outputs": [
    {
     "data": {
      "text/plain": [
       "['And',\n",
       " 'then',\n",
       " 'the',\n",
       " 'Viking',\n",
       " 'and',\n",
       " 'the',\n",
       " 'Zak',\n",
       " 'said',\n",
       " 'aw',\n",
       " 'aww',\n",
       " 'awww',\n",
       " 'awwww',\n",
       " 'awwwww']"
      ]
     },
     "execution_count": 52,
     "metadata": {},
     "output_type": "execute_result"
    }
   ],
   "source": [
    "pattern = \"\\w+\"\n",
    "re.findall(pattern, text)"
   ]
  },
  {
   "cell_type": "code",
   "execution_count": 54,
   "metadata": {},
   "outputs": [],
   "source": [
    "text = \"\"\"\n",
    "Aeromexico 800-237-6639\n",
    "Air Canada 888-247-2262\n",
    "Air Canada Rouge 888-247-2262\n",
    "Air Creebec 800-567-6567\n",
    "Air Inuit 800-361-2965\n",
    "Air North 800-661-0407\n",
    "Air Tindi 888-545-6794\n",
    "Air Transat 866-847-1112\n",
    "\"\"\""
   ]
  },
  {
   "cell_type": "code",
   "execution_count": 55,
   "metadata": {},
   "outputs": [
    {
     "data": {
      "text/plain": [
       "'\\nAeromexico 800-237-6639\\nAir Canada 888-247-2262\\nAir Canada Rouge 888-247-2262\\nAir Creebec 800-567-6567\\nAir Inuit 800-361-2965\\nAir North 800-661-0407\\nAir Tindi 888-545-6794\\nAir Transat 866-847-1112\\n'"
      ]
     },
     "execution_count": 55,
     "metadata": {},
     "output_type": "execute_result"
    }
   ],
   "source": [
    "text"
   ]
  },
  {
   "cell_type": "code",
   "execution_count": 56,
   "metadata": {},
   "outputs": [
    {
     "name": "stdout",
     "output_type": "stream",
     "text": [
      "['800', '237', '6639', '888', '247', '2262', '888', '247', '2262', '800', '567', '6567', '800', '361', '2965', '800', '661', '0407', '888', '545', '6794', '866', '847', '1112']\n"
     ]
    }
   ],
   "source": [
    "pattern = '\\d+'\n",
    "result = re.findall(pattern, text)\n",
    "print(result)"
   ]
  },
  {
   "cell_type": "code",
   "execution_count": 57,
   "metadata": {},
   "outputs": [
    {
     "name": "stdout",
     "output_type": "stream",
     "text": [
      "['800-', '237-', '6639\\n', '888-', '247-', '2262\\n', '888-', '247-', '2262\\n', '800-', '567-', '6567\\n', '800-', '361-', '2965\\n', '800-', '661-', '0407\\n', '888-', '545-', '6794\\n', '866-', '847-', '1112\\n']\n"
     ]
    }
   ],
   "source": [
    "pattern = '\\d+\\W?'\n",
    "result = re.findall(pattern, text)\n",
    "print(result)"
   ]
  },
  {
   "cell_type": "code",
   "execution_count": 58,
   "metadata": {},
   "outputs": [
    {
     "name": "stdout",
     "output_type": "stream",
     "text": [
      "['800-2', '37-6', '639\\nA', '888-2', '47-2', '262\\nA', '888-2', '47-2', '262\\nA', '800-5', '67-6', '567\\nA', '800-3', '61-2', '965\\nA', '800-6', '61-0', '407\\nA', '888-5', '45-6', '794\\nA', '866-8', '47-1', '112\\n']\n"
     ]
    }
   ],
   "source": [
    "pattern = '\\d+\\W?\\S?'\n",
    "result = re.findall(pattern, text)\n",
    "print(result)"
   ]
  },
  {
   "cell_type": "code",
   "execution_count": 59,
   "metadata": {},
   "outputs": [
    {
     "name": "stdout",
     "output_type": "stream",
     "text": [
      "['800-', '237-', '6639\\n', '888-', '247-', '2262\\n', '888-', '247-', '2262\\n', '800-', '567-', '6567\\n', '800-', '361-', '2965\\n', '800-', '661-', '0407\\n', '888-', '545-', '6794\\n', '866-', '847-', '1112\\n']\n"
     ]
    }
   ],
   "source": [
    "pattern = '\\d+\\W'\n",
    "result = re.findall(pattern, text)\n",
    "print(result)"
   ]
  },
  {
   "cell_type": "code",
   "execution_count": 61,
   "metadata": {},
   "outputs": [
    {
     "name": "stdout",
     "output_type": "stream",
     "text": [
      "['800-', '237-', '888-', '247-', '888-', '247-', '800-', '567-', '800-', '361-', '800-', '661-', '888-', '545-', '866-', '847-']\n"
     ]
    }
   ],
   "source": [
    "pattern = '\\d+-'\n",
    "result = re.findall(pattern, text)\n",
    "print(result)"
   ]
  },
  {
   "cell_type": "code",
   "execution_count": 63,
   "metadata": {},
   "outputs": [
    {
     "name": "stdout",
     "output_type": "stream",
     "text": [
      "['800-237-6639', '888-247-2262', '888-247-2262', '800-567-6567', '800-361-2965', '800-661-0407', '888-545-6794', '866-847-1112']\n"
     ]
    }
   ],
   "source": [
    "pattern = '\\d+-\\d+-\\d+'\n",
    "result = re.findall(pattern, text)\n",
    "print(result)"
   ]
  },
  {
   "cell_type": "code",
   "execution_count": 64,
   "metadata": {},
   "outputs": [
    {
     "name": "stdout",
     "output_type": "stream",
     "text": [
      "[]\n"
     ]
    }
   ],
   "source": [
    "pattern = '\\d+B\\d+-\\d+'\n",
    "result = re.findall(pattern, text)\n",
    "print(result)"
   ]
  },
  {
   "cell_type": "code",
   "execution_count": 65,
   "metadata": {},
   "outputs": [
    {
     "name": "stdout",
     "output_type": "stream",
     "text": [
      "[]\n"
     ]
    }
   ],
   "source": []
  },
  {
   "cell_type": "code",
   "execution_count": 75,
   "metadata": {},
   "outputs": [
    {
     "name": "stdout",
     "output_type": "stream",
     "text": [
      "['6639', '2262', '2262', '6567', '2965', '0407', '6794', '1112']\n"
     ]
    }
   ],
   "source": [
    "pattern = '(\\d{3,}-?){3,}'\n",
    "result = re.findall(pattern, text)\n",
    "print(result)"
   ]
  },
  {
   "cell_type": "code",
   "execution_count": 77,
   "metadata": {},
   "outputs": [
    {
     "name": "stdout",
     "output_type": "stream",
     "text": [
      "['+']\n"
     ]
    }
   ],
   "source": [
    "text = 'If there is a + in the text how to find it?'\n",
    "pattern = '\\+'\n",
    "result = re.findall(pattern, text)\n",
    "print(result)"
   ]
  },
  {
   "cell_type": "code",
   "execution_count": 94,
   "metadata": {},
   "outputs": [],
   "source": [
    "birthdays = \"\"\"\n",
    "11:08\n",
    "Anna Riera - 27/01/1991\n",
    "Kevin Forster - 10/01/1990\n",
    "Lorenzo Fabritius - 25-08-1997\n",
    "Miguel Granica - 20/09/1990\n",
    "Minerva Liste - 18/01/1981\n",
    "Octavi Fernandez - 22-01-1980\n",
    "Oriol Cunill - 16-09-1989\n",
    "Rebecca Estiarte - 06/10/1993\n",
    "Robin Langlois - 19/09/1987\n",
    "Yago Mougán - 99-99-999\n",
    "Yazan Masarweh - 20/06/1986\n",
    "Zak Abou Merieme - 28-10-1987\n",
    "Nacho - 08041992\n",
    "\n",
    "\n",
    "11:10\n",
    "Ali - 20.11.1991\n",
    "Tjerk Kostelijk - 14.6.1983\n",
    "\"\"\""
   ]
  },
  {
   "cell_type": "code",
   "execution_count": 82,
   "metadata": {},
   "outputs": [
    {
     "name": "stdout",
     "output_type": "stream",
     "text": [
      "[' -', ' 27/01', '/1991\\n', ' -', ' 10/01', '/1990\\n', ' -', ' 25-08', '-1997\\n', ' -', ' 20/09', '/1990\\n', ' -', ' 18/01', '/1981\\n', ' -', ' 22-01', '-1980\\n', ' -', ' 16-09', '-1989\\n', ' -', ' 06/10', '/1993\\n', ' -', ' 19/09', '/1987\\n', ' -', ' 99-99', '-999\\n', ' -', ' 20/06', '/1986\\n', ' -', ' 28-10', '-1987\\n', ' -', ' 08041992\\n', '\\n\\n11', ':10\\n', ' -', ' 20.11', '.1991\\n', ' -', ' 14.6', '.1983\\n']\n"
     ]
    }
   ],
   "source": [
    "pattern = '\\d*\\W\\d*\\W\\d*'\n",
    "result = re.findall(pattern, birthdays)\n",
    "print(result)"
   ]
  },
  {
   "cell_type": "code",
   "execution_count": 84,
   "metadata": {},
   "outputs": [
    {
     "name": "stdout",
     "output_type": "stream",
     "text": [
      "['27/', '01/', '1991\\n', '10/', '01/', '1990\\n', '25-', '08-', '1997\\n', '20/', '09/', '1990\\n', '18/', '01/', '1981\\n', '22-', '01-', '1980\\n', '16-', '09-', '1989\\n', '06/', '10/', '1993\\n', '19/', '09/', '1987\\n', '99-', '99-', '999\\n', '20/', '06/', '1986\\n', '28-', '10-', '1987\\n', '08041992\\n', '11:', '10\\n', '20.', '11.', '1991\\n', '14.', '6.', '1983\\n']\n"
     ]
    }
   ],
   "source": [
    "pattern = '\\d+\\W'\n",
    "result = re.findall(pattern, birthdays)\n",
    "print(result)"
   ]
  },
  {
   "cell_type": "code",
   "execution_count": 85,
   "metadata": {},
   "outputs": [
    {
     "name": "stdout",
     "output_type": "stream",
     "text": [
      "['27/01/1991', '10/01/1990', '25-08-1997', '20/09/1990', '18/01/1981', '22-01-1980', '16-09-1989', '06/10/1993', '19/09/1987', '99-99-999', '20/06/1986', '28-10-1987', '20.11.1991', '14.6.1983']\n"
     ]
    }
   ],
   "source": [
    "pattern = '\\d+\\W\\d+\\W\\d+'\n",
    "result = re.findall(pattern, birthdays)\n",
    "print(result)"
   ]
  },
  {
   "cell_type": "code",
   "execution_count": 86,
   "metadata": {},
   "outputs": [
    {
     "name": "stdout",
     "output_type": "stream",
     "text": [
      "['27/01/1991', '10/01/1990', '25-08-1997', '20/09/1990', '18/01/1981', '22-01-1980', '16-09-1989', '06/10/1993', '19/09/1987', '99-99-999', '20/06/1986', '28-10-1987', '08041992', '20.11.1991', '14.6.1983']\n"
     ]
    }
   ],
   "source": [
    "pattern = '\\d+\\W\\d+\\W\\d+|08041992'\n",
    "result = re.findall(pattern, birthdays)\n",
    "print(result)"
   ]
  },
  {
   "cell_type": "code",
   "execution_count": 89,
   "metadata": {},
   "outputs": [
    {
     "name": "stdout",
     "output_type": "stream",
     "text": [
      "['27/01/1991', '10/01/1990', '25-08-1997', '20/09/1990', '18/01/1981', '22-01-1980', '16-09-1989', '06/10/1993', '19/09/1987', '99-99-999', '20/06/1986', '28-10-1987', '08041992', '20.11.1991', '14.6.1983']\n"
     ]
    }
   ],
   "source": [
    "pattern = '\\d+\\W\\d+\\W\\d+|\\d{8}'\n",
    "result = re.findall(pattern, birthdays)\n",
    "print(result)"
   ]
  },
  {
   "cell_type": "code",
   "execution_count": 92,
   "metadata": {},
   "outputs": [
    {
     "name": "stdout",
     "output_type": "stream",
     "text": [
      "['27/01/1991', '10/01/1990', '25-08-1997', '20/09/1990', '18/01/1981', '22-01-1980', '16-09-1989', '06/10/1993', '19/09/1987', '99-99-999', '20/06/1986', '28-10-1987', '08041992', '20.11.1991', '14.6.1983']\n"
     ]
    }
   ],
   "source": [
    "pattern = '\\d+\\W?\\d+\\W?\\d+'\n",
    "result = re.findall(pattern, birthdays)\n",
    "print(result)"
   ]
  },
  {
   "cell_type": "code",
   "execution_count": 96,
   "metadata": {},
   "outputs": [
    {
     "name": "stdout",
     "output_type": "stream",
     "text": [
      "['11:08', '27/01/1991', '10/01/1990', '25-08-1997', '20/09/1990', '18/01/1981', '22-01-1980', '16-09-1989', '06/10/1993', '19/09/1987', '99-99-999', '20/06/1986', '28-10-1987', '08041992', '11:10', '20.11.1991', '14.6.1983']\n"
     ]
    }
   ],
   "source": [
    "pattern = '\\d+\\W?\\d+\\W?\\d+'\n",
    "result = re.findall(pattern, birthdays)\n",
    "print(result)"
   ]
  },
  {
   "cell_type": "code",
   "execution_count": 97,
   "metadata": {},
   "outputs": [
    {
     "name": "stdout",
     "output_type": "stream",
     "text": [
      "['11:08', '11:10']\n"
     ]
    }
   ],
   "source": [
    "pattern = '\\d+:\\d+'\n",
    "result = re.findall(pattern, birthdays)\n",
    "print(result)"
   ]
  },
  {
   "cell_type": "code",
   "execution_count": 104,
   "metadata": {},
   "outputs": [
    {
     "name": "stdout",
     "output_type": "stream",
     "text": [
      "['\\n', '\\n', ' ', ' ', '-', ' ', '/', '/', '\\n', ' ', ' ', '-', ' ', '/', '/', '\\n', ' ', ' ', '-', ' ', '-', '-', '\\n', ' ', ' ', '-', ' ', '/', '/', '\\n', ' ', ' ', '-', ' ', '/', '/', '\\n', ' ', ' ', '-', ' ', '-', '-', '\\n', ' ', ' ', '-', ' ', '-', '-', '\\n', ' ', ' ', '-', ' ', '/', '/', '\\n', ' ', ' ', '-', ' ', '/', '/', '\\n', ' ', ' ', '-', ' ', '-', '-', '\\n', ' ', ' ', '-', ' ', '/', '/', '\\n', ' ', ' ', ' ', '-', ' ', '-', '-', '\\n', ' ', '-', ' ', '\\n', '\\n', '\\n', '\\n', ' ', '-', ' ', '.', '.', '\\n', ' ', ' ', '-', ' ', '.', '.', '\\n']\n"
     ]
    }
   ],
   "source": [
    "pattern = '[^:\\w]'\n",
    "result = re.findall(pattern, birthdays)\n",
    "print(result)"
   ]
  },
  {
   "cell_type": "code",
   "execution_count": 105,
   "metadata": {},
   "outputs": [
    {
     "name": "stdout",
     "output_type": "stream",
     "text": [
      "['27/01/1991', '10/01/1990', '25-08-1997', '20/09/1990', '18/01/1981', '22-01-1980', '16-09-1989', '06/10/1993', '19/09/1987', '99-99-999', '20/06/1986', '28-10-1987', '08041992', '20.11.1991', '14.6.1983']\n"
     ]
    }
   ],
   "source": [
    "pattern = '\\d+[^:\\w]?\\d+[^:\\w]?\\d+'\n",
    "result = re.findall(pattern, birthdays)\n",
    "print(result)"
   ]
  },
  {
   "cell_type": "code",
   "execution_count": 107,
   "metadata": {},
   "outputs": [
    {
     "data": {
      "text/plain": [
       "'\\n11:08\\nAnna Riera - 27/01/1991\\nKevin Forster - 10/01/1990\\nLorenzo Fabritius - 25-08-1997\\nMiguel Granica - 20/09/1990\\nMinerva Liste - 18/01/1981\\nOctavi Fernandez - 22-01-1980\\nOriol Cunill - 16-09-1989\\nRebecca Estiarte - 06/10/1993\\nRobin Langlois - 19/09/1987\\nYago Mougán - 99-99-999\\nYazan Masarweh - 20/06/1986\\nZak Abou Merieme - 28-10-1987\\nNacho - 08041992\\n\\n\\n11:10\\nAli - 20.11.1991\\nTjerk Kostelijk - 14.6.1983\\n'"
      ]
     },
     "execution_count": 107,
     "metadata": {},
     "output_type": "execute_result"
    }
   ],
   "source": [
    "birthdays"
   ]
  },
  {
   "cell_type": "code",
   "execution_count": 130,
   "metadata": {},
   "outputs": [
    {
     "name": "stdout",
     "output_type": "stream",
     "text": [
      "The times are:\n",
      "['11:08', '11:10']\n",
      "The birthdays are:\n",
      "['27/01/1991', '10/01/1990', '25-08-1997', '20/09/1990', '18/01/1981', '22-01-1980', '16-09-1989', '06/10/1993', '19/09/1987', '99-99-999', '20/06/1986', '28-10-1987', '08041992', '20.11.1991', '14.6.1983']\n"
     ]
    }
   ],
   "source": [
    "# step 1, remove the time\n",
    "\n",
    "def remove_time(couldbeanything):\n",
    "    pattern = '\\d+:\\d+'\n",
    "    \n",
    "    # step 1a, find the time pattern\n",
    "    find_text = re.findall(pattern, couldbeanything)\n",
    "    print('The times are:')\n",
    "    print(find_text)\n",
    "    \n",
    "    # step 1b, remove the time pattern\n",
    "    #substitute_with = 'STORMS___________TORMSTORM'\n",
    "    substitute_with = ''\n",
    "    result = re.sub(pattern, substitute_with, couldbeanything)\n",
    "    \n",
    "    return result\n",
    "\n",
    "def abracadabr0a(aoeuaoe):\n",
    "    print(\"aoeuaoeu\")\n",
    " \n",
    "# step 2, find the birthdays\n",
    "def find_birthdays(birthdays):\n",
    "    pattern = '\\d+\\W?\\d+\\W?\\d+'\n",
    "    birthdays_result = re.findall(pattern, birthdays)\n",
    "    return birthdays_result\n",
    "\n",
    "    \n",
    "text_time_removed = remove_time(birthdays)\n",
    "result            = find_birthdays(text_time_removed)\n",
    "\n",
    "print('The birthdays are:')\n",
    "print(result)\n",
    "\n"
   ]
  },
  {
   "cell_type": "code",
   "execution_count": null,
   "metadata": {},
   "outputs": [],
   "source": []
  }
 ],
 "metadata": {
  "kernelspec": {
   "display_name": "Python 3",
   "language": "python",
   "name": "python3"
  },
  "language_info": {
   "codemirror_mode": {
    "name": "ipython",
    "version": 3
   },
   "file_extension": ".py",
   "mimetype": "text/x-python",
   "name": "python",
   "nbconvert_exporter": "python",
   "pygments_lexer": "ipython3",
   "version": "3.8.1"
  }
 },
 "nbformat": 4,
 "nbformat_minor": 2
}
